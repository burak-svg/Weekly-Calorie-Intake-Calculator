{
  "nbformat": 4,
  "nbformat_minor": 0,
  "metadata": {
    "colab": {
      "provenance": [],
      "authorship_tag": "ABX9TyPoKfooCCtN/zXq9raE4d4a",
      "include_colab_link": true
    },
    "kernelspec": {
      "name": "python3",
      "display_name": "Python 3"
    },
    "language_info": {
      "name": "python"
    }
  },
  "cells": [
    {
      "cell_type": "markdown",
      "metadata": {
        "id": "view-in-github",
        "colab_type": "text"
      },
      "source": [
        "<a href=\"https://colab.research.google.com/github/burak-svg/Weekly-Calorie-Intake-Calculator/blob/main/haftal%C4%B1kkalorihtiyac%C4%B1hesaplay%C4%B1c%C4%B1.ipynb\" target=\"_parent\"><img src=\"https://colab.research.google.com/assets/colab-badge.svg\" alt=\"Open In Colab\"/></a>"
      ]
    },
    {
      "cell_type": "code",
      "execution_count": null,
      "metadata": {
        "colab": {
          "base_uri": "https://localhost:8080/",
          "height": 480
        },
        "id": "ISjb0zMeyn2s",
        "outputId": "d4fc3f80-de3e-4451-a0c6-81d57bb6f325"
      },
      "outputs": [
        {
          "output_type": "stream",
          "name": "stdout",
          "text": [
            "--- Haftalık Kalori Hesaplayıcıya Hoş Geldiniz! ---\n",
            "Bütün yiyecekler gram değerinden hesaplanacaktır.\n",
            "Yediğiniz şeyleri gram olarak ya da yiyeceğin ismi şeklinde yazabilirsiniz (Örnekler: hamburger, kebap, iskender, tavukdoner, etdoner, kumpir, patateskizartma)\n",
            "--------------------------------------------------\n",
            "\n",
            "--- Pazartesi Günü ---\n"
          ]
        },
        {
          "output_type": "error",
          "ename": "KeyboardInterrupt",
          "evalue": "Interrupted by user",
          "traceback": [
            "\u001b[0;31m---------------------------------------------------------------------------\u001b[0m",
            "\u001b[0;31mKeyboardInterrupt\u001b[0m                         Traceback (most recent call last)",
            "\u001b[0;32m/tmp/ipython-input-2-2217545964.py\u001b[0m in \u001b[0;36m<cell line: 0>\u001b[0;34m()\u001b[0m\n\u001b[1;32m     24\u001b[0m     \u001b[0mprint\u001b[0m\u001b[0;34m(\u001b[0m\u001b[0;34mf\"\\n--- {gun} Günü ---\"\u001b[0m\u001b[0;34m)\u001b[0m\u001b[0;34m\u001b[0m\u001b[0;34m\u001b[0m\u001b[0m\n\u001b[1;32m     25\u001b[0m     \u001b[0;32mwhile\u001b[0m \u001b[0;32mTrue\u001b[0m\u001b[0;34m:\u001b[0m\u001b[0;34m\u001b[0m\u001b[0;34m\u001b[0m\u001b[0m\n\u001b[0;32m---> 26\u001b[0;31m         \u001b[0mgirdi\u001b[0m \u001b[0;34m=\u001b[0m \u001b[0minput\u001b[0m\u001b[0;34m(\u001b[0m\u001b[0;34mf\"{gun} günü ne yediniz? (Gram cinsinden veya yiyecek adı, bitirmek için 'bitir' yazın): \"\u001b[0m\u001b[0;34m)\u001b[0m\u001b[0;34m.\u001b[0m\u001b[0mlower\u001b[0m\u001b[0;34m(\u001b[0m\u001b[0;34m)\u001b[0m\u001b[0;34m\u001b[0m\u001b[0;34m\u001b[0m\u001b[0m\n\u001b[0m\u001b[1;32m     27\u001b[0m         \u001b[0;32mif\u001b[0m \u001b[0mgirdi\u001b[0m \u001b[0;34m==\u001b[0m \u001b[0;34m\"bitir\"\u001b[0m\u001b[0;34m:\u001b[0m\u001b[0;34m\u001b[0m\u001b[0;34m\u001b[0m\u001b[0m\n\u001b[1;32m     28\u001b[0m             \u001b[0;32mbreak\u001b[0m\u001b[0;34m\u001b[0m\u001b[0;34m\u001b[0m\u001b[0m\n",
            "\u001b[0;32m/usr/local/lib/python3.11/dist-packages/ipykernel/kernelbase.py\u001b[0m in \u001b[0;36mraw_input\u001b[0;34m(self, prompt)\u001b[0m\n\u001b[1;32m   1175\u001b[0m                 \u001b[0;34m\"raw_input was called, but this frontend does not support input requests.\"\u001b[0m\u001b[0;34m\u001b[0m\u001b[0;34m\u001b[0m\u001b[0m\n\u001b[1;32m   1176\u001b[0m             )\n\u001b[0;32m-> 1177\u001b[0;31m         return self._input_request(\n\u001b[0m\u001b[1;32m   1178\u001b[0m             \u001b[0mstr\u001b[0m\u001b[0;34m(\u001b[0m\u001b[0mprompt\u001b[0m\u001b[0;34m)\u001b[0m\u001b[0;34m,\u001b[0m\u001b[0;34m\u001b[0m\u001b[0;34m\u001b[0m\u001b[0m\n\u001b[1;32m   1179\u001b[0m             \u001b[0mself\u001b[0m\u001b[0;34m.\u001b[0m\u001b[0m_parent_ident\u001b[0m\u001b[0;34m[\u001b[0m\u001b[0;34m\"shell\"\u001b[0m\u001b[0;34m]\u001b[0m\u001b[0;34m,\u001b[0m\u001b[0;34m\u001b[0m\u001b[0;34m\u001b[0m\u001b[0m\n",
            "\u001b[0;32m/usr/local/lib/python3.11/dist-packages/ipykernel/kernelbase.py\u001b[0m in \u001b[0;36m_input_request\u001b[0;34m(self, prompt, ident, parent, password)\u001b[0m\n\u001b[1;32m   1217\u001b[0m             \u001b[0;32mexcept\u001b[0m \u001b[0mKeyboardInterrupt\u001b[0m\u001b[0;34m:\u001b[0m\u001b[0;34m\u001b[0m\u001b[0;34m\u001b[0m\u001b[0m\n\u001b[1;32m   1218\u001b[0m                 \u001b[0;31m# re-raise KeyboardInterrupt, to truncate traceback\u001b[0m\u001b[0;34m\u001b[0m\u001b[0;34m\u001b[0m\u001b[0m\n\u001b[0;32m-> 1219\u001b[0;31m                 \u001b[0;32mraise\u001b[0m \u001b[0mKeyboardInterrupt\u001b[0m\u001b[0;34m(\u001b[0m\u001b[0;34m\"Interrupted by user\"\u001b[0m\u001b[0;34m)\u001b[0m \u001b[0;32mfrom\u001b[0m \u001b[0;32mNone\u001b[0m\u001b[0;34m\u001b[0m\u001b[0;34m\u001b[0m\u001b[0m\n\u001b[0m\u001b[1;32m   1220\u001b[0m             \u001b[0;32mexcept\u001b[0m \u001b[0mException\u001b[0m\u001b[0;34m:\u001b[0m\u001b[0;34m\u001b[0m\u001b[0;34m\u001b[0m\u001b[0m\n\u001b[1;32m   1221\u001b[0m                 \u001b[0mself\u001b[0m\u001b[0;34m.\u001b[0m\u001b[0mlog\u001b[0m\u001b[0;34m.\u001b[0m\u001b[0mwarning\u001b[0m\u001b[0;34m(\u001b[0m\u001b[0;34m\"Invalid Message:\"\u001b[0m\u001b[0;34m,\u001b[0m \u001b[0mexc_info\u001b[0m\u001b[0;34m=\u001b[0m\u001b[0;32mTrue\u001b[0m\u001b[0;34m)\u001b[0m\u001b[0;34m\u001b[0m\u001b[0;34m\u001b[0m\u001b[0m\n",
            "\u001b[0;31mKeyboardInterrupt\u001b[0m: Interrupted by user"
          ]
        }
      ],
      "source": [
        "import math\n",
        "\n",
        "foods = {\n",
        "    \"hamburger\": 250,\n",
        "    \"kebab\": 350,\n",
        "    \"iskender\": 500,\n",
        "    \"chicken_doner\": 120,\n",
        "    \"beef_doner\": 175,\n",
        "    \"kumpir\": 300,\n",
        "    \"french_fries\": 400,\n",
        "    \"salad\": 50,\n",
        "    \"barbeque\": 375\n",
        "}\n",
        "\n",
        "print(\"--- Welcome to the Weekly Calorie Intake Calculator! ---\")\n",
        "print(\"All foods will be calculated based on their gram values.\")\n",
        "print(\"You can enter what you ate by the gram amount or by the food name (Examples: hamburger, kebab, iskender, chicken_doner, beef_doner, kumpir, french_fries)\")\n",
        "print(\"-\" * 50)\n",
        "\n",
        "weekly_total_grams = 0\n",
        "\n",
        "days = [\"Monday\", \"Tuesday\", \"Wednesday\", \"Thursday\", \"Friday\", \"Saturday\", \"Sunday\"]\n",
        "\n",
        "for day in days:\n",
        "    daily_total_grams = 0\n",
        "    print(f\"\\n--- {day} ---\")\n",
        "    while True:\n",
        "        entry = input(f\"What did you eat on {day}? (Enter as grams or food name, type 'done' to finish for the day): \").lower()\n",
        "        if entry == \"done\":\n",
        "            break\n",
        "\n",
        "        try:\n",
        "            # If entered as grams\n",
        "            amount = int(entry)\n",
        "            daily_total_grams += amount\n",
        "            print(f\"'{amount} grams' added.\")\n",
        "        except ValueError:\n",
        "            # If entered as food name\n",
        "            if entry in foods:\n",
        "                amount = foods[entry]\n",
        "                daily_total_grams += amount\n",
        "                print(f\"'{entry.capitalize()}' ({amount} grams) added.\")\n",
        "            else:\n",
        "                print(\"Invalid input. Please enter a number in grams or a food name from the list.\")\n",
        "\n",
        "    weekly_total_grams += daily_total_grams\n",
        "    print(f\"On {day}, you consumed a total of {daily_total_grams} grams of food.\")\n",
        "    print(\"-\" * 50)\n",
        "\n",
        "print(\"\\n--- Weekly Summary ---\")\n",
        "print(f\"In one week, you consumed a total of {weekly_total_grams} grams of food.\")\n",
        "\n",
        "# Simple approach: Assume an average of 200 calories per 100 grams of food.\n",
        "# This value can vary greatly depending on the food type and is just an estimate.\n",
        "estimated_calorie_burn_goal = (weekly_total_grams / 100) * 200\n",
        "\n",
        "print(f\"According to this amount, your weekly estimated calorie burn goal should be around {estimated_calorie_burn_goal:.0f} calories.\")\n",
        "print(\"\\nPlease note: These values are estimates and may vary depending on your personal health and goals.\")\n",
        "print(\"For a healthy lifestyle, consulting a professional is recommended.\")\n",
        "print(\"-\" * 50)"
      ]
    }
  ]
}